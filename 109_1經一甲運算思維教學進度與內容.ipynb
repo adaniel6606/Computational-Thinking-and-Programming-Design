{
  "nbformat": 4,
  "nbformat_minor": 0,
  "metadata": {
    "colab": {
      "name": "109-1經一甲運算思維教學進度與內容.ipynb",
      "provenance": [],
      "collapsed_sections": [],
      "authorship_tag": "ABX9TyNP+k0rmTRPBYJWYHHsyhLB",
      "include_colab_link": true
    },
    "kernelspec": {
      "name": "python3",
      "display_name": "Python 3"
    }
  },
  "cells": [
    {
      "cell_type": "markdown",
      "metadata": {
        "id": "view-in-github",
        "colab_type": "text"
      },
      "source": [
        "<a href=\"https://colab.research.google.com/github/HungHuaTien/Computational-Thinking-and-Programming-Design/blob/master/109_1%E7%B6%93%E4%B8%80%E7%94%B2%E9%81%8B%E7%AE%97%E6%80%9D%E7%B6%AD%E6%95%99%E5%AD%B8%E9%80%B2%E5%BA%A6%E8%88%87%E5%85%A7%E5%AE%B9.ipynb\" target=\"_parent\"><img src=\"https://colab.research.google.com/assets/colab-badge.svg\" alt=\"Open In Colab\"/></a>"
      ]
    },
    {
      "cell_type": "markdown",
      "metadata": {
        "id": "PXT4z0DUG_3t"
      },
      "source": [
        "# Week 1 09-17-2020\n",
        "\n",
        "課程綱要\n",
        "\n",
        "在Github平台設立帳戶，繳交所有作業\n",
        "\n",
        "作業1: [問卷調查-請回傳Github帳戶](https://forms.gle/h7dfJg48PYFNnx2v8)\n"
      ]
    },
    {
      "cell_type": "markdown",
      "metadata": {
        "id": "dgDSlk5WRJae"
      },
      "source": [
        "上課速記\n",
        "\n",
        "1. 兩小時課介紹課綱與github帳戶開戶正好。\n",
        "\n",
        "2. 有同學需要反覆登入數次才能註冊成功。除了用電腦外，手機註冊也是一種方法。另外，當Github請你輸入六位數密碼後，會再次讓我們按resent驗證信，當你按過後，Github會出現三個圖案，請按最左邊的那個建立專案即可。（最近的新功能）\n",
        "\n",
        "3. 開視窗廣播，用ctrl-A讓全班都能看到老師的電腦螢幕。"
      ]
    },
    {
      "cell_type": "markdown",
      "metadata": {
        "id": "GM1TCQuqR6kc"
      },
      "source": [
        "課程錄影\n",
        "\n",
        "[第一小時的影片](https://youtu.be/P8YEzqUK1ko)\n",
        "\n",
        "[第二小時的影片](https://youtu.be/xoKaYEeyO24)"
      ]
    },
    {
      "cell_type": "markdown",
      "metadata": {
        "id": "gLKnTR6nHYiD"
      },
      "source": [
        "# Week 2 09-21-2020\n",
        "\n",
        "**上課內容：用電腦解決問題（一）：大數據與人工智慧的趨勢**\n",
        "\n",
        "作業2: 百字心得見解。\n",
        "請從網路上找一篇故事或報導，是關於世界各國與各級學校目前積極推動「程式設計與運算思維」教育的內容，請寫下你支持與不支持的意見。\n",
        "請將作業寫在word中，然後存成「week2.pdf」的檔案名稱與格式，最後上傳到Github你的帳戶平台上。"
      ]
    },
    {
      "cell_type": "markdown",
      "metadata": {
        "id": "N0A_jEHAyz6e"
      },
      "source": [
        "**FB社團**\n",
        "\n",
        "有同學反應：記住我的github網址才進入課程網頁，不方便。在原Github網址照常運作下，提供另一個自由加入退出的選項。同學可以加入選擇FB社團，用自己的帳號進入後，從置頂公告做連結。請記得，修課完畢後，請同學自行退出。"
      ]
    },
    {
      "cell_type": "markdown",
      "metadata": {
        "id": "bbZTqhlQxKH6"
      },
      "source": [
        "**上課錄影**\n",
        "\n",
        "[第一小時]（https://youtu.be/VsgdT0YXJfo）\n",
        "\n",
        "[第二小時] (https://youtu.be/6XkdEw8VMN0)"
      ]
    },
    {
      "cell_type": "markdown",
      "metadata": {
        "id": "QPUFvMqAHjK8"
      },
      "source": [
        "# Week 3 10-01-2020\n",
        "\n",
        "本週放假"
      ]
    },
    {
      "cell_type": "markdown",
      "metadata": {
        "id": "yI_S1V39H1Rk"
      },
      "source": [
        "# Week 4 10-08-2020\n",
        "\n",
        "**上課內容**\n",
        "\n",
        "用電腦解決問題的步驟\n",
        "什麼是運算思維\n",
        "\n",
        "作業 4: Man, Cabbage, Goat, Wolf Problem**\n",
        "\n",
        "請同學先把渡河問題說清楚，然後提出解決之道！！！\n",
        "渡河之謎的答案，就是解決問題的方法，也就是運算思維的具體產物（演算法）！\n"
      ]
    },
    {
      "cell_type": "markdown",
      "metadata": {
        "id": "Ro_2G4qIyZ3e"
      },
      "source": [
        "**上課錄影**\n",
        "\n",
        "[第一小時](https://youtu.be/_XQ3g2ppAp8)\n",
        "\n",
        "第二小時錄影的檔案有問題，所以無法提供。"
      ]
    },
    {
      "cell_type": "markdown",
      "metadata": {
        "id": "ojRdx8fRH7Dn"
      },
      "source": [
        "# Week 5 10-15-2020\n",
        "\n",
        "入門概論（三）：用電腦解決問題-程式設計與虛擬碼\n",
        "\n",
        "作業5: 請寫出虛擬碼並畫出流程圖\n",
        "\n",
        "使用者輸入密碼，如果和電腦的設定相同，則輸出「請進」，如果不同則輸出「再試一次」，而最多可以試三次。電腦的預設密碼是「Python」這個字。"
      ]
    },
    {
      "cell_type": "markdown",
      "metadata": {
        "id": "QZPtbdRinjeb"
      },
      "source": [
        "**課程錄影**\n",
        "\n",
        "[兩小時](https://youtu.be/mGpRNAwvUFA)"
      ]
    },
    {
      "cell_type": "markdown",
      "metadata": {
        "id": "x9_2YU6tH_Nf"
      },
      "source": [
        "# Week 6 10-22-2020\n",
        "\n",
        "**本週作業請準時繳交，之前的作業還沒交的請盡快上傳，下星期四上午9:00截止，預期不候0分計算。**"
      ]
    },
    {
      "cell_type": "markdown",
      "metadata": {
        "id": "KPmlLhveICpH"
      },
      "source": [
        "# Week 7 10-29-2020\n",
        "\n",
        "**上課內容**\n",
        "\n",
        "序列結構（一）：變數和數字資料的操作\n",
        "\n",
        "**作業：習題：PEMDAS運算**\n",
        "\n",
        "就像數學一樣，算數運算子遵循一套特殊的順序進行計算。讓我們看看你能否使用這些概念創造一個超級計算機！\n",
        "\n",
        "請創立一個名為magic_number的變數，指派其等於333的特殊計算。計算必須遵循這些規則：\n",
        "\n",
        "(1)你必須至少使用**運算子一次。 (2)你必須至少使用%運算子一次。\n",
        "\n",
        "將magic_number變數指定給電腦後，使用print()函式確保它等於333!\n",
        "\n",
        "\n",
        "[錄影連結](https://youtu.be/OpByJHdG1nM)"
      ]
    },
    {
      "cell_type": "markdown",
      "metadata": {
        "id": "5eu5hOXkINVj"
      },
      "source": [
        "# Week 8 11-05-2020\n",
        "\n",
        "**課程進度**\n",
        "互動輸入與螢幕輸出\n",
        "\n",
        "作業：:服裝訂購系統,賣場買飲料,求三數總和與平均\n",
        "\n",
        "**請同學到Google Drive查看一下Github網址記錄是否正確，謝謝。**"
      ]
    },
    {
      "cell_type": "markdown",
      "metadata": {
        "id": "O1jd1gqAAZ7Z"
      },
      "source": [
        "[課程影片](https://youtu.be/AzqyED1W9bc)\n"
      ]
    },
    {
      "cell_type": "markdown",
      "metadata": {
        "id": "0gsqgjDrISw9"
      },
      "source": [
        "# Week 9 11-12-2020\n",
        "\n",
        "**本次上課時，我打什麼你打什麼，當成大家一起做隨堂作業！同學需當場截圖(.png檔）上傳Github，截圖中要有自己的姓名週次與作業內容才算分！！**\n",
        "\n",
        "[作業截圖示範檔案(有姓名週次與作業內容資訊)](https://drive.google.com/file/d/1njBsT6i_ExqRqzyWBqMZolrpk0_3XPky/view?usp=sharing)\n"
      ]
    },
    {
      "cell_type": "markdown",
      "metadata": {
        "id": "VIc_aFEq8fH2"
      },
      "source": [
        "# Week 10 11-19-2020\n",
        "\n",
        "**中英文轉換問題**\n",
        "在windows 10的微軟注音之下, 請用shift鍵切換中英文格式\n",
        "當你的語言輸入有多種模式時, 同時按window視窗鍵和空白鍵,會切換不同的輸入模式<有時也可以轉換中英文格式(學校的電腦OK)"
      ]
    },
    {
      "cell_type": "markdown",
      "metadata": {
        "id": "we4XFl358rUP"
      },
      "source": [
        "# Week 11 11-26-2020"
      ]
    },
    {
      "cell_type": "markdown",
      "metadata": {
        "id": "Sw_u3HYp8xWM"
      },
      "source": [
        "# Week 12 12-03-2020"
      ]
    },
    {
      "cell_type": "markdown",
      "metadata": {
        "id": "4Hq7ftzC81xj"
      },
      "source": [
        "# Week13 12-10-2020"
      ]
    },
    {
      "cell_type": "markdown",
      "metadata": {
        "id": "lltgR6P586om"
      },
      "source": [
        "# Week 14 12-17-2020"
      ]
    },
    {
      "cell_type": "markdown",
      "metadata": {
        "id": "8x2s-NAl89jr"
      },
      "source": [
        "# Week 15 12-24-2020"
      ]
    },
    {
      "cell_type": "markdown",
      "metadata": {
        "id": "M4JeYuPk9BcZ"
      },
      "source": [
        "# Week 16 12-31-2020"
      ]
    },
    {
      "cell_type": "markdown",
      "metadata": {
        "id": "r1CbmCt09FKV"
      },
      "source": [
        "# Week 17 01-07-2021"
      ]
    },
    {
      "cell_type": "markdown",
      "metadata": {
        "id": "ULjFm4LP9VK4"
      },
      "source": [
        "# Week 18 01-14-2021"
      ]
    },
    {
      "cell_type": "code",
      "metadata": {
        "id": "Wu4eqWNr9Y0r"
      },
      "source": [
        ""
      ],
      "execution_count": null,
      "outputs": []
    }
  ]
}